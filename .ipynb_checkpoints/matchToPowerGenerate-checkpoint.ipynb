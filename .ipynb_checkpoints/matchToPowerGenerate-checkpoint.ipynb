{
 "cells": [
  {
   "cell_type": "code",
   "execution_count": null,
   "id": "ea69a7f2",
   "metadata": {},
   "outputs": [],
   "source": [
    "from torch.utils.data import DataLoader\n",
    "import pandas as pd\n",
    "import numpy as np\n",
    "from torch.utils.data import Dataset\n",
    "import os"
   ]
  },
  {
   "cell_type": "code",
   "execution_count": null,
   "id": "5a5503d5",
   "metadata": {},
   "outputs": [],
   "source": [
    "weathers = pd.DataFrame()\n",
    "forder= os.listdir('1월 데이터')\n",
    "\n",
    "for file in forder:\n",
    "    csv = pd.read_csv('1월 데이터/'+file, encoding='CP949')\n",
    "    weathers = pd.concat([df,csv])\n",
    "\n",
    "weathers.drop(['지점명','일시',],axis=1)\n",
    "weather_data = weathers.values"
   ]
  },
  {
   "cell_type": "code",
   "execution_count": null,
   "id": "dbd1db7e",
   "metadata": {},
   "outputs": [],
   "source": []
  },
  {
   "cell_type": "code",
   "execution_count": null,
   "id": "9d5343d9",
   "metadata": {},
   "outputs": [],
   "source": []
  }
 ],
 "metadata": {
  "kernelspec": {
   "display_name": "Python 3 (ipykernel)",
   "language": "python",
   "name": "python3"
  },
  "language_info": {
   "codemirror_mode": {
    "name": "ipython",
    "version": 3
   },
   "file_extension": ".py",
   "mimetype": "text/x-python",
   "name": "python",
   "nbconvert_exporter": "python",
   "pygments_lexer": "ipython3",
   "version": "3.10.0"
  }
 },
 "nbformat": 4,
 "nbformat_minor": 5
}
